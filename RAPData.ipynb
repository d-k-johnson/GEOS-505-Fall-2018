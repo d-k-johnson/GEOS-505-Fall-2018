{
 "cells": [
  {
   "cell_type": "markdown",
   "metadata": {},
   "source": [
    "# GEOS 505 Assigment #1\n",
    "\n",
    "## Background & Data Description\n",
    "The data I am working with is load displacement data collected using the IFIT semi-circular bend test protocol. The test is a 3 point bend test of asphalt mixtures conducted near room temperature and at a loading rate of 50 mm/min. The test has been shown to be sensitive to Reclaimed Asphalt Pavement content and is being conducted as part of a Idaho Transportation Department project to assess the impact of RAP perentage on the susceptibility of fatigue cracking. The test equipment produces a text file with header information calculated from the load/displcacment data, followed by load/displacement measurements. The data I'm interested in is in the header. Therefore, I need to open every text file, pull out the important header information, and compile it for statistical analysis and plotting. The text file headers are not comma separated to I will have to use the fixed location of the data. The text files are aranged in subdirectories named by project key number, and so the subdirectory name will be required to differentiate the data by project. For this assigment, I will collect all relavent information from the files, but I will only be plotting the Flexibility Index.\n",
    "\n",
    "## Step 1 - Initialization\n",
    "I begin by initialize the modules I will need. As I'm working with files in multiple directories, I will need the os module. Aslo I will need numpy and matplotlib for array operations and plotting:"
   ]
  },
  {
   "cell_type": "code",
   "execution_count": 1,
   "metadata": {},
   "outputs": [],
   "source": [
    "import os\n",
    "import numpy as np\n",
    "import matplotlib.pyplot as plt"
   ]
  },
  {
   "cell_type": "markdown",
   "metadata": {},
   "source": [
    "## Step 2 - Finding a list of files and subdirectories\n",
    "To open and work with each file, I first need a list of all files and associated subdirectories so I can build path names with which to open the files:"
   ]
  },
  {
   "cell_type": "code",
   "execution_count": 2,
   "metadata": {},
   "outputs": [],
   "source": [
    "file_list = [] #Initialize filer list.\n",
    "folder = [] #Initialize folder list.\n",
    "for dirName, subdirList, fileList in os.walk('.'): #Use OS.walk to walk each folder and directory and create a path name     \n",
    "    for fname in fileList:                         #to each file.\n",
    "        if fname.endswith(\"results.txt\"):          #Condition on which files to open.\n",
    "            path = dirName + '\\\\' + fname          #Build windows readable path neam.\n",
    "            split = path.split(\"\\\\\")\n",
    "            folder = folder + [split[1]]           #Build a separate list of folders to use for lables\n",
    "            file_list = file_list + [path]"
   ]
  },
  {
   "cell_type": "markdown",
   "metadata": {},
   "source": [
    "## Step 3 - Open each file and pull out specific header info\n",
    "Next, I will open every file in file_list for reading and read specific header info (e.g., Flexibility Index, Strength, Fracture Energy etc.) to a numpy array. I should have probably used a list as I never really use the numpy array functionality and really use the arrays like lists. Also, the plot function uses lists of lists for the data (multiple plots). However, I started with this approach and so I have not revised the code. I'm using the readlines() method because the data isn't in a csv file or some other common delimited format so I'm unable to use Pandas."
   ]
  },
  {
   "cell_type": "code",
   "execution_count": 3,
   "metadata": {},
   "outputs": [],
   "source": [
    "frac1 = np.array([0.0])                                #Intitialize arrays for each desired parameter. \n",
    "slope1 = np.array([0.0])\n",
    "stren1 = np.array([0.0])\n",
    "flex1 = np.array([0.0])\n",
    "secstif1 = np.array([0.0])\n",
    "for i in range(0,len(folder),1):                       #For loop to loop through reach file and open them.\n",
    "    with open(file_list[i],'r') as f:\n",
    "        #Create Fracture Energy array\n",
    "        lines = f.readlines()                         \n",
    "        x = lines[26]\n",
    "        x = x.split()                                  #Here I used split and visually inspected the results to find the         \n",
    "        frac2 = np.array([float(x[3])])                #precise location of each of the desired parameters.\n",
    "        frac2 = np.concatenate([frac1,frac2])\n",
    "        frac1 = frac2\n",
    "        #Create Slope array\n",
    "        x = lines[27]\n",
    "        x = x.split()\n",
    "        slope2 = np.array([float(x[2])])\n",
    "        slope2 = np.concatenate([slope1,slope2])\n",
    "        slope1 = slope2    \n",
    "        #Create Strength array\n",
    "        x = lines[28]\n",
    "        x = x.split()\n",
    "        stren2 = np.array([float(x[2])])\n",
    "        stren2 = np.concatenate([stren1,stren2])\n",
    "        stren1 = stren2\n",
    "        #Create Flexibility Index array\n",
    "        x = lines[29]\n",
    "        x = x.split()\n",
    "        flex2 = np.array([float(x[2])])\n",
    "        flex2 = np.concatenate([flex1,flex2])\n",
    "        flex1 = flex2  \n",
    "        #Create Secant Stiffness array\n",
    "        x = lines[27]\n",
    "        x = x.split()\n",
    "        secstif2 = np.array([float(x[2])])\n",
    "        secstif2 = np.concatenate([secstif1,secstif2])\n",
    "        secstif1 = secstif2        "
   ]
  },
  {
   "cell_type": "markdown",
   "metadata": {},
   "source": [
    "## Step 4 - Create RAP content array\n",
    "As RAP content is not included in the test data, I have to use the project key numbers (stored in the subdirectory names (folder) to assign a RAP content to each file opened. "
   ]
  },
  {
   "cell_type": "code",
   "execution_count": 4,
   "metadata": {},
   "outputs": [],
   "source": [
    "rap = [None]*len(folder)\n",
    "for i in range(0,len(folder),1):\n",
    "    test = folder[i]\n",
    "    if test == '13463':             \n",
    "        rap[i] = 50.7\n",
    "    elif test == '13935':\n",
    "        rap[i] = 29.0\n",
    "    elif test == '18784 17%':\n",
    "        rap[i] = 16.3\n",
    "    elif test == '18784 30%':\n",
    "        rap[i] = 29.8\n",
    "    elif test == '18784 40%':\n",
    "        rap[i] = 45.2\n",
    "    elif test == '19412':\n",
    "        rap[i] = 29.2\n",
    "    elif test == '19589':\n",
    "        rap[i] = 29.9\n",
    "    elif test == '19727':\n",
    "        rap[i] = 29.01\n",
    "    elif test == 'IMC_FAA_P401':\n",
    "        rap[i] = 0.0\n",
    "    elif test == '13106':\n",
    "        rap[i] = 35.4\n",
    "    elif test == 'IMC_ACHD':\n",
    "        rap[i] = 29.6"
   ]
  },
  {
   "cell_type": "markdown",
   "metadata": {},
   "source": [
    "## Step 5 - Create an multidimensional array to hold all paramaters\n",
    "Here, I combine all parameter vectors into a ndarray called table. I will use this table to split the data up by project no."
   ]
  },
  {
   "cell_type": "code",
   "execution_count": 5,
   "metadata": {},
   "outputs": [],
   "source": [
    "rap = np.asarray(rap)\n",
    "frac = np.asarray(frac2[1:])\n",
    "slope = np.asarray(slope2[1:])\n",
    "stren = np.asarray(stren2[1:])\n",
    "flex = np.asarray(flex2[1:])\n",
    "secstif = np.asarray(secstif2[1:])\n",
    "table = np.column_stack((rap,flex,frac,slope,stren,secstif))"
   ]
  },
  {
   "cell_type": "markdown",
   "metadata": {},
   "source": [
    "## Step 6 - Slice the data (table) up by project number\n",
    "Admittedly, I should have done this before creating the RAP data array. However, because I was not using a list, I can't use the project names directly to split the table. Therefore, I ensured that all RAP contents have unique values and used these values to split the table by projects. "
   ]
  },
  {
   "cell_type": "code",
   "execution_count": 6,
   "metadata": {},
   "outputs": [],
   "source": [
    "for i in range(0,len(table)-1,1):\n",
    "    if table[i+1,0] != table[i,0]:\n",
    "        d1, table = table[0:i,:], table[i+1:,:]\n",
    "        break\n",
    "for i in range(0,len(table)-1,1):\n",
    "    if table[i+1,0] != table[i,0]:\n",
    "        d2, table = table[0:i+1,:], table[i+1:,:]\n",
    "        break\n",
    "for i in range(0,len(table)-1,1):\n",
    "    if table[i+1,0] != table[i,0]:\n",
    "        d3, table = table[0:i+1,:], table[i+1:,:]\n",
    "        break\n",
    "for i in range(0,len(table)-1,1):\n",
    "    if table[i+1,0] != table[i,0]:\n",
    "        d4, table = table[0:i+1,:], table[i+1:,:]\n",
    "        break\n",
    "for i in range(0,len(table)-1,1):\n",
    "    if table[i+1,0] != table[i,0]:\n",
    "        d5, table = table[0:i+1,:], table[i+1:,:]\n",
    "        break\n",
    "for i in range(0,len(table)-1,1):\n",
    "    if table[i+1,0] != table[i,0]:\n",
    "        d6, table = table[0:i+1,:], table[i+1:,:]\n",
    "        break\n",
    "for i in range(0,len(table)-1,1):\n",
    "    if table[i+1,0] != table[i,0]:\n",
    "        d7, table = table[0:i+1,:], table[i+1:,:]\n",
    "        break\n",
    "for i in range(0,len(table)-1,1):\n",
    "    if table[i+1,0] != table[i,0]:\n",
    "        d8, table = table[0:i+1,:], table[i+1:,:]\n",
    "        break\n",
    "for i in range(0,len(table)-1,1):\n",
    "    if table[i+1,0] != table[i,0]:\n",
    "        d9, table = table[0:i+1,:], table[i+1:,:]\n",
    "        break\n",
    "for i in range(0,len(table)-1,1):\n",
    "    if table[i+1,0] != table[i,0]:\n",
    "        d10, table = table[0:i+1,:], table[i+1:,:]\n",
    "        break\n",
    "d11 = table"
   ]
  },
  {
   "cell_type": "markdown",
   "metadata": {},
   "source": [
    "## Step 7 - Create data lists, label lists and plot.\n",
    "In this final step, I compile the data created in the previous step into a list of vectors (only the RAP column). I also manually created a list of x tick labels for matplotlib."
   ]
  },
  {
   "cell_type": "code",
   "execution_count": 7,
   "metadata": {
    "scrolled": false
   },
   "outputs": [
    {
     "data": {
      "image/png": "[encoded data removed]",
      "text/plain": [
       "<Figure size 432x288 with 1 Axes>"
      ]
     },
     "metadata": {},
     "output_type": "display_data"
    }
   ],
   "source": [
    "data = [d1[:,1],d2[:,1],d3[:,1],d4[:,1],d5[:,1],d6[:,1],d7[:,1],d8[:,1],d9[:,1],d10[:,1],d11[:,1]]  #list of data.\n",
    "labels = ['13463 50%','13935 29%','18784 17%','18784 30%',\n",
    "          '18784 40%','19412 29%','19589 30%','19727 30%','FAA_P401 0%','13106 35%','IMC_ACHD 30']  #X tick labels.\n",
    "\n",
    "ax = plt.boxplot(data, labels=labels, notch='true')  #Plot the data with boxplot and confidence interval notches\n",
    "plt.xticks(rotation=45)\n",
    "plt.xlabel('Project Key No.')\n",
    "plt.ylabel('Flexibility Index')\n",
    "plt.title('Flexibility Index of Tested Samples by Project Key No.')\n",
    "plt.show()"
   ]
  }
 ],
 "metadata": {
  "kernelspec": {
   "display_name": "Python 3",
   "language": "python",
   "name": "python3"
  },
  "language_info": {
   "codemirror_mode": {
    "name": "ipython",
    "version": 3
   },
   "file_extension": ".py",
   "mimetype": "text/x-python",
   "name": "python",
   "nbconvert_exporter": "python",
   "pygments_lexer": "ipython3",
   "version": "3.6.5"
  }
 },
 "nbformat": 4,
 "nbformat_minor": 2
}
