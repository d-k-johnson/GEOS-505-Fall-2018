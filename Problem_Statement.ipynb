{
 "cells": [
  {
   "cell_type": "markdown",
   "metadata": {},
   "source": [
    "# GEOS 505: Research Computing in Earth System Science \n",
    "# Final Project Problem Statement\n",
    "***\n",
    "\n",
    "### D. Kody Johnson                                  \n",
    "### November 8, 2018\n",
    "---\n",
    "\n",
    "## Introduction & Background\n",
    "In the railroad industry, monitoring railcar wheel loads is an important safety and preventative maintenance task.\n",
    "One of the most common wayside instrumentation techniques employed for the determination of vertical railcar wheel loads is the placement of strain gauges on the rail web to measure differential shear strain. The basic theory behind this method was first presented by Ahlbeck et al. (1), and is based on a simple principle: the difference in vertical shear force between two locations along a beam is equal to the magnitude of the vertical load applied between those locations. Reasonably accurate estimates of wheel load magnitude can be obtained by measuring the differential shear strain between two locations (using strain gauges), and relating those measurements to the vertical shear force (and thereby vertical loading) through rail geometric and constitutive properties. This basic technique forms the backbone of the Wheel Impact Load Detector (WILD), one of the most widely used wayside monitoring systems by the railroad industry to detect 'out of round' wheels.<br><br>\n",
    "One common method of measuring differential shear in the field is by mounting strain gauges at the neutral axis of the rail. From mechanics, the principal strains under a vertical-only loading configuration are oriented at ±45 degrees to the neutral axis of a beam. Accordingly, measuring the strain at an angle of ±45 degrees to the neutral axis will help establish the magnitudes of the principal strains, which can then be resolved to get shear strain values and ultimately the magnitude of the applied vertical load. In the presense of both vertical and lateral loads, a significant level of 'crosstalk', or mixed strain gauge output due to both vertical and lateral loading, makes it difficult to independently determine the magnitude of the vertical load. To resolve this issue, a Wheatstone bridge circuit is used to combine the signals of all strain gauges. There are eight gauges in total in each circuit with two guages on either side of the load and on both faces of the rail web each oriented at ±45º. The gauges are configured in the bridge circuit in such a way that strains induced from lateral load are cancelled and the circuit output is due to vertical load only. A similar approach is used to determine lateral load magnitudes. However, for lateral load determination, the gauges are mounted on the rail foot in a separate Wheatstone circuit. These are the same circuit configurations proposed by Ahlbeck et al. in 1976, and these same circuits are still in use today to determine wheel load magnitudes.<br><br>\n",
    "However, based on preliminary results from an extensive numerical investigation of the vertical load circuit on a small section of AREMA 132R rail, it may be possible to determine both lateral and vertical wheel load magnitudes from a modified version of the vertical circuit previously discussed. This would have major implications for wayside monitoring as the complexity and cost of wheel load monitoring systems would be significantly reduced. For example, a typical WILD detector installation has three instrumented sections on each side of the track with each instrumented section consisting of six vertical load and six lateral load circuits. Therefore, if the lateral load circuit isn't necessary, 36 strain circuits could be eliminated. This would mean a reduction of 288 total gauges (144 dual element gauges), each of which must be carefully welded to the rail in a labor intensive process. In additiion, the signal conditioners and other ancillary equipment and materials would also be eliminated resulting in significant cost and labor savings per installation.<br><br>\n",
    "The objective of this research effort is to investigate the applicability of replacing the current vertical and lateral load circuits with a single circuit capable of determining both vertical and lateral load. The proposed circuit would eliminate the Wheatstone bridge (as it is no longer desireable to eliminate crosstalk) and combine the signals from eight independent strain gauges together to determine both vertical and lateral load. \n",
    "***\n",
    "## Approach \n",
    "Based on the preliminary results mentioned above, the relationship between the eight strain gauge signals and the vertical and lateral load is believed to be linear in nature. Therefore, the approach will be to apply a multivariate multiple linear regression to numerical simulation data of 35 different cases of varying vertical and lateral load magnitude to see if a predictive relationship can be found between the eight strain gauge measurements and vertical and lateral load. The data necessary for this study is numerical output data from a set of 35 parametric simulations each with varying levels of vertical and lateral load. These simulations will be conducted using the commercial finite element software ABAQUS. In each simulation, a small section of AREMA 132R rail will be subjected to vertical and lateral load, while 'virtual' strain gauges will be simulated by calculating nodal deformations between nodes at gauge locations and oriented in the principle strain directions. As python can be used to directly interact with ABAQUS, a python script will be written to perform these 35 simulations and write the vertical load, lateral load, and the eight measured strain values to an output file arranged in ten columns with one row per simulation.<br><br>\n",
    "Once the simulation data has been generated, the data will be analyzed using the python machine learning package *sklearn* to conduct a multivariate multiple linear regression with the goal of determinining a consistent predictive relationship between the eight independed strain gauge measurements and vertical and lateral load. If a linear regression is unable to consistently predict vertical and lateral loading from strain gauge measurements, additional attempts will be made using non-linear regression or non-parametric techniques such as Support Vector Machines(SVM). Non-parametric methods require much more data to determine the maping function and so additional simulations to generate a larger data set may be required. Once a model has been determined, the final step will be to test the model using strain guage data generated from loads not included in the original training data.<br><br>\n"
   ]
  },
  {
   "cell_type": "code",
   "execution_count": null,
   "metadata": {},
   "outputs": [],
   "source": []
  }
 ],
 "metadata": {
  "kernelspec": {
   "display_name": "Python 3",
   "language": "python",
   "name": "python3"
  },
  "language_info": {
   "codemirror_mode": {
    "name": "ipython",
    "version": 3
   },
   "file_extension": ".py",
   "mimetype": "text/x-python",
   "name": "python",
   "nbconvert_exporter": "python",
   "pygments_lexer": "ipython3",
   "version": "3.7.0"
  }
 },
 "nbformat": 4,
 "nbformat_minor": 2
}
